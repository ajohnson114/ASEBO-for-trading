{
 "cells": [
  {
   "cell_type": "code",
   "execution_count": 29,
   "id": "46c379e7",
   "metadata": {},
   "outputs": [],
   "source": [
    "%matplotlib inline\n",
    "import pandas as pd\n",
    "import yfinance as yf\n",
    "import numpy as np\n",
    "import matplotlib.pyplot as plt"
   ]
  },
  {
   "cell_type": "code",
   "execution_count": 24,
   "id": "41d21f2d",
   "metadata": {},
   "outputs": [
    {
     "name": "stdout",
     "output_type": "stream",
     "text": [
      "[*********************100%***********************]  1 of 1 completed\n"
     ]
    }
   ],
   "source": [
    "df = yf.download('AAPL', start=\"2020-12-01\")"
   ]
  },
  {
   "cell_type": "code",
   "execution_count": 25,
   "id": "c13f484b",
   "metadata": {},
   "outputs": [
    {
     "data": {
      "text/html": [
       "<div>\n",
       "<style scoped>\n",
       "    .dataframe tbody tr th:only-of-type {\n",
       "        vertical-align: middle;\n",
       "    }\n",
       "\n",
       "    .dataframe tbody tr th {\n",
       "        vertical-align: top;\n",
       "    }\n",
       "\n",
       "    .dataframe thead th {\n",
       "        text-align: right;\n",
       "    }\n",
       "</style>\n",
       "<table border=\"1\" class=\"dataframe\">\n",
       "  <thead>\n",
       "    <tr style=\"text-align: right;\">\n",
       "      <th></th>\n",
       "      <th>Open</th>\n",
       "      <th>High</th>\n",
       "      <th>Low</th>\n",
       "      <th>Close</th>\n",
       "      <th>Adj Close</th>\n",
       "      <th>Volume</th>\n",
       "    </tr>\n",
       "    <tr>\n",
       "      <th>Date</th>\n",
       "      <th></th>\n",
       "      <th></th>\n",
       "      <th></th>\n",
       "      <th></th>\n",
       "      <th></th>\n",
       "      <th></th>\n",
       "    </tr>\n",
       "  </thead>\n",
       "  <tbody>\n",
       "    <tr>\n",
       "      <th>2020-12-01</th>\n",
       "      <td>121.010002</td>\n",
       "      <td>123.469299</td>\n",
       "      <td>120.010002</td>\n",
       "      <td>122.720001</td>\n",
       "      <td>121.968102</td>\n",
       "      <td>128166803</td>\n",
       "    </tr>\n",
       "    <tr>\n",
       "      <th>2020-12-02</th>\n",
       "      <td>122.019997</td>\n",
       "      <td>123.370003</td>\n",
       "      <td>120.889999</td>\n",
       "      <td>123.080002</td>\n",
       "      <td>122.325890</td>\n",
       "      <td>89004195</td>\n",
       "    </tr>\n",
       "    <tr>\n",
       "      <th>2020-12-03</th>\n",
       "      <td>123.519997</td>\n",
       "      <td>123.779999</td>\n",
       "      <td>122.209999</td>\n",
       "      <td>122.940002</td>\n",
       "      <td>122.186752</td>\n",
       "      <td>78967630</td>\n",
       "    </tr>\n",
       "    <tr>\n",
       "      <th>2020-12-04</th>\n",
       "      <td>122.599998</td>\n",
       "      <td>122.860802</td>\n",
       "      <td>121.519997</td>\n",
       "      <td>122.250000</td>\n",
       "      <td>121.500969</td>\n",
       "      <td>78260421</td>\n",
       "    </tr>\n",
       "    <tr>\n",
       "      <th>2020-12-07</th>\n",
       "      <td>122.309998</td>\n",
       "      <td>124.570000</td>\n",
       "      <td>122.250000</td>\n",
       "      <td>123.750000</td>\n",
       "      <td>122.991776</td>\n",
       "      <td>86711990</td>\n",
       "    </tr>\n",
       "    <tr>\n",
       "      <th>...</th>\n",
       "      <td>...</td>\n",
       "      <td>...</td>\n",
       "      <td>...</td>\n",
       "      <td>...</td>\n",
       "      <td>...</td>\n",
       "      <td>...</td>\n",
       "    </tr>\n",
       "    <tr>\n",
       "      <th>2021-12-06</th>\n",
       "      <td>164.289993</td>\n",
       "      <td>167.879898</td>\n",
       "      <td>164.279999</td>\n",
       "      <td>165.320007</td>\n",
       "      <td>165.320007</td>\n",
       "      <td>107496982</td>\n",
       "    </tr>\n",
       "    <tr>\n",
       "      <th>2021-12-07</th>\n",
       "      <td>169.080002</td>\n",
       "      <td>171.580002</td>\n",
       "      <td>168.339996</td>\n",
       "      <td>171.179993</td>\n",
       "      <td>171.179993</td>\n",
       "      <td>120405352</td>\n",
       "    </tr>\n",
       "    <tr>\n",
       "      <th>2021-12-08</th>\n",
       "      <td>172.125000</td>\n",
       "      <td>175.960007</td>\n",
       "      <td>170.699997</td>\n",
       "      <td>175.080002</td>\n",
       "      <td>175.080002</td>\n",
       "      <td>116998901</td>\n",
       "    </tr>\n",
       "    <tr>\n",
       "      <th>2021-12-09</th>\n",
       "      <td>174.910004</td>\n",
       "      <td>176.750000</td>\n",
       "      <td>173.919998</td>\n",
       "      <td>174.559998</td>\n",
       "      <td>174.559998</td>\n",
       "      <td>108157647</td>\n",
       "    </tr>\n",
       "    <tr>\n",
       "      <th>2021-12-10</th>\n",
       "      <td>175.205002</td>\n",
       "      <td>179.630005</td>\n",
       "      <td>174.690002</td>\n",
       "      <td>179.449997</td>\n",
       "      <td>179.449997</td>\n",
       "      <td>110986702</td>\n",
       "    </tr>\n",
       "  </tbody>\n",
       "</table>\n",
       "<p>260 rows × 6 columns</p>\n",
       "</div>"
      ],
      "text/plain": [
       "                  Open        High         Low       Close   Adj Close  \\\n",
       "Date                                                                     \n",
       "2020-12-01  121.010002  123.469299  120.010002  122.720001  121.968102   \n",
       "2020-12-02  122.019997  123.370003  120.889999  123.080002  122.325890   \n",
       "2020-12-03  123.519997  123.779999  122.209999  122.940002  122.186752   \n",
       "2020-12-04  122.599998  122.860802  121.519997  122.250000  121.500969   \n",
       "2020-12-07  122.309998  124.570000  122.250000  123.750000  122.991776   \n",
       "...                ...         ...         ...         ...         ...   \n",
       "2021-12-06  164.289993  167.879898  164.279999  165.320007  165.320007   \n",
       "2021-12-07  169.080002  171.580002  168.339996  171.179993  171.179993   \n",
       "2021-12-08  172.125000  175.960007  170.699997  175.080002  175.080002   \n",
       "2021-12-09  174.910004  176.750000  173.919998  174.559998  174.559998   \n",
       "2021-12-10  175.205002  179.630005  174.690002  179.449997  179.449997   \n",
       "\n",
       "               Volume  \n",
       "Date                   \n",
       "2020-12-01  128166803  \n",
       "2020-12-02   89004195  \n",
       "2020-12-03   78967630  \n",
       "2020-12-04   78260421  \n",
       "2020-12-07   86711990  \n",
       "...               ...  \n",
       "2021-12-06  107496982  \n",
       "2021-12-07  120405352  \n",
       "2021-12-08  116998901  \n",
       "2021-12-09  108157647  \n",
       "2021-12-10  110986702  \n",
       "\n",
       "[260 rows x 6 columns]"
      ]
     },
     "execution_count": 25,
     "metadata": {},
     "output_type": "execute_result"
    }
   ],
   "source": [
    "df"
   ]
  },
  {
   "cell_type": "code",
   "execution_count": 26,
   "id": "0c9191d3",
   "metadata": {},
   "outputs": [],
   "source": [
    "def strat(df, window=100):\n",
    "    \"\"\"Buys or sells depending on whether or not the rolling returns are positive or not.\n",
    "    Works better on cryptos than equities\"\"\"\n",
    "    df.copy()\n",
    "    df['ret'] = np.log(df.Close.pct_change()+1) #log returns day to day\n",
    "    #look back window \n",
    "    df['prior_n'] = df.ret.rolling(window).sum() #sum because of log returns \n",
    "    df.dropna(inplace = True)\n",
    "    df['position'] = [1 if i > 0 else -1 for i in df.prior_n]\n",
    "    df['strat'] = df.position.shift(1) * df.ret\n",
    "    #you can only buy or sell on the next day\n",
    "    return np.exp(df[['ret','strat']].cumsum()).plot(figsize=(12,6))"
   ]
  },
  {
   "cell_type": "code",
   "execution_count": 30,
   "id": "cc16fc52",
   "metadata": {},
   "outputs": [
    {
     "data": {
      "text/plain": [
       "<AxesSubplot:xlabel='Date'>"
      ]
     },
     "execution_count": 30,
     "metadata": {},
     "output_type": "execute_result"
    },
    {
     "data": {
      "image/png": "[encoded data removed]",
      "text/plain": [
       "<Figure size 864x432 with 1 Axes>"
      ]
     },
     "metadata": {
      "needs_background": "light"
     },
     "output_type": "display_data"
    }
   ],
   "source": [
    "strat(df)"
   ]
  },
  {
   "cell_type": "code",
   "execution_count": 28,
   "id": "c50ad8c0",
   "metadata": {},
   "outputs": [
    {
     "data": {
      "text/plain": [
       "matplotlib.axes._subplots.AxesSubplot"
      ]
     },
     "execution_count": 28,
     "metadata": {},
     "output_type": "execute_result"
    }
   ],
   "source": [
    "type(x)"
   ]
  },
  {
   "cell_type": "code",
   "execution_count": null,
   "id": "22e34320",
   "metadata": {},
   "outputs": [],
   "source": []
  }
 ],
 "metadata": {
  "kernelspec": {
   "display_name": "Python 3",
   "language": "python",
   "name": "python3"
  },
  "language_info": {
   "codemirror_mode": {
    "name": "ipython",
    "version": 3
   },
   "file_extension": ".py",
   "mimetype": "text/x-python",
   "name": "python",
   "nbconvert_exporter": "python",
   "pygments_lexer": "ipython3",
   "version": "3.8.12"
  }
 },
 "nbformat": 4,
 "nbformat_minor": 5
}
